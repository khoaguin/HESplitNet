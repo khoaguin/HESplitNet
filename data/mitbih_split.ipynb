{
 "cells": [
  {
   "cell_type": "markdown",
   "metadata": {},
   "source": [
    "# Splitting MIT-BIH Dataset for Multi-client protocol"
   ]
  },
  {
   "cell_type": "markdown",
   "metadata": {},
   "source": [
    "## Import packages"
   ]
  },
  {
   "cell_type": "code",
   "execution_count": 1,
   "metadata": {},
   "outputs": [],
   "source": [
    "import h5py\n",
    "import numpy as np"
   ]
  },
  {
   "cell_type": "markdown",
   "metadata": {},
   "source": [
    "## Reading and Splitting the training and testing datasets into 3 equal parts"
   ]
  },
  {
   "cell_type": "markdown",
   "metadata": {},
   "source": [
    "The training dataset has the length of 13245 => we split at 4415, 8830 "
   ]
  },
  {
   "cell_type": "code",
   "execution_count": 2,
   "metadata": {},
   "outputs": [],
   "source": [
    "train_file = 'mitbih_train.hdf5'\n",
    "with h5py.File(train_file, \"r\") as f:\n",
    "    x_train = np.array(f['x_train'][:])\n",
    "    y_train = np.array(f['y_train'][:])\n",
    "    x_train_1 = x_train[:4415, :, :]\n",
    "    x_train_2 = x_train[4415:8830, :, :]\n",
    "    x_train_3 = x_train[8830:, :, :]\n",
    "    y_train_1 = y_train[:4415]\n",
    "    y_train_2 = y_train[4415:8830]\n",
    "    y_train_3 = y_train[8830:]"
   ]
  },
  {
   "cell_type": "code",
   "execution_count": 3,
   "metadata": {},
   "outputs": [
    {
     "name": "stdout",
     "output_type": "stream",
     "text": [
      "--- Training dataset ---\n",
      "split training dataset 1: (4415, 1, 128), (4415,)\n",
      "split training dataset 2: (4415, 1, 128), (4415,)\n",
      "split training dataset 3: (4415, 1, 128), (4415,)\n"
     ]
    }
   ],
   "source": [
    "print('--- Training dataset ---')\n",
    "print(f'split training dataset 1: {x_train_1.shape}, {y_train_1.shape}')\n",
    "print(f'split training dataset 2: {x_train_2.shape}, {y_train_2.shape}')\n",
    "print(f'split training dataset 3: {x_train_3.shape}, {y_train_3.shape}')"
   ]
  },
  {
   "cell_type": "markdown",
   "metadata": {},
   "source": [
    "The testing dataset also has the length of 13245 => we split at 4415, 8830 "
   ]
  },
  {
   "cell_type": "code",
   "execution_count": 4,
   "metadata": {},
   "outputs": [],
   "source": [
    "test_file = 'mitbih_test.hdf5'\n",
    "with h5py.File(test_file, \"r\") as f:\n",
    "    x_test = np.array(f['x_test'][:])\n",
    "    y_test = np.array(f['y_test'][:])\n",
    "    x_test_1 = x_test[:4415, :, :]\n",
    "    x_test_2 = x_test[4415:8830, :, :]\n",
    "    x_test_3 = x_test[8830:, :, :]\n",
    "    y_test_1 = y_test[:4415]\n",
    "    y_test_2 = y_test[4415:8830]\n",
    "    y_test_3 = y_test[8830:]"
   ]
  },
  {
   "cell_type": "code",
   "execution_count": 5,
   "metadata": {},
   "outputs": [
    {
     "name": "stdout",
     "output_type": "stream",
     "text": [
      "--- Testing dataset ---\n",
      "split test dataset 1: (4415, 1, 128), (4415,)\n",
      "split test dataset 2: (4415, 1, 128), (4415,)\n",
      "split test dataset 3: (4415, 1, 128), (4415,)\n"
     ]
    }
   ],
   "source": [
    "print('--- Testing dataset ---')\n",
    "print(f'split test dataset 1: {x_test_1.shape}, {y_test_1.shape}')\n",
    "print(f'split test dataset 2: {x_test_2.shape}, {y_test_2.shape}')\n",
    "print(f'split test dataset 3: {x_test_3.shape}, {y_test_3.shape}')"
   ]
  },
  {
   "cell_type": "markdown",
   "metadata": {},
   "source": [
    "## Write the data into `hdf5` files"
   ]
  },
  {
   "cell_type": "code",
   "execution_count": 6,
   "metadata": {},
   "outputs": [
    {
     "name": "stdout",
     "output_type": "stream",
     "text": [
      "Multiclient train data saved to multiclient_mitbih_train.hdf5\n"
     ]
    }
   ],
   "source": [
    "with h5py.File('multiclient_mitbih_train.hdf5', 'w') as hdf:\n",
    "    hdf['x_train_1'] = x_train_1[:]\n",
    "    hdf['x_train_2'] = x_train_2[:]\n",
    "    hdf['x_train_3'] = x_train_3[:]\n",
    "    hdf['y_train_1'] = y_train_1[:]\n",
    "    hdf['y_train_2'] = y_train_2[:]\n",
    "    hdf['y_train_3'] = y_train_3[:]\n",
    "    print('Multiclient train data saved to multiclient_mitbih_train.hdf5')"
   ]
  },
  {
   "cell_type": "code",
   "execution_count": 7,
   "metadata": {},
   "outputs": [
    {
     "name": "stdout",
     "output_type": "stream",
     "text": [
      "Multiclient test data saved to multiclient_mitbih_test.hdf5\n"
     ]
    }
   ],
   "source": [
    "with h5py.File('multiclient_mitbih_test.hdf5', 'w') as hdf:\n",
    "    hdf['x_test_1'] = x_test_1[:]\n",
    "    hdf['x_test_2'] = x_test_2[:]\n",
    "    hdf['x_test_3'] = x_test_3[:]\n",
    "    hdf['y_test_1'] = y_test_1[:]\n",
    "    hdf['y_test_2'] = y_test_2[:]\n",
    "    hdf['y_test_3'] = y_test_3[:]\n",
    "    print('Multiclient test data saved to multiclient_mitbih_test.hdf5')"
   ]
  },
  {
   "cell_type": "code",
   "execution_count": null,
   "metadata": {},
   "outputs": [],
   "source": []
  }
 ],
 "metadata": {
  "kernelspec": {
   "display_name": "Python 3.9.7 ('hesplitnet')",
   "language": "python",
   "name": "python3"
  },
  "language_info": {
   "codemirror_mode": {
    "name": "ipython",
    "version": 3
   },
   "file_extension": ".py",
   "mimetype": "text/x-python",
   "name": "python",
   "nbconvert_exporter": "python",
   "pygments_lexer": "ipython3",
   "version": "3.9.7"
  },
  "orig_nbformat": 4,
  "vscode": {
   "interpreter": {
    "hash": "11210b8be1bb7cc6676144590494b49434811d33ae047805be023f0bc9450961"
   }
  }
 },
 "nbformat": 4,
 "nbformat_minor": 2
}
