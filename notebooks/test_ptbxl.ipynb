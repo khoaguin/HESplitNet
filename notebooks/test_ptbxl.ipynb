{
 "cells": [
  {
   "cell_type": "markdown",
   "metadata": {},
   "source": [
    "# The Server Runs the Testing Process on the Plain Testing Dataset"
   ]
  },
  {
   "cell_type": "code",
   "execution_count": 13,
   "metadata": {},
   "outputs": [
    {
     "name": "stdout",
     "output_type": "stream",
     "text": [
      "torch version: 1.8.1+cu102\n",
      "tenseal version: 0.3.10\n"
     ]
    }
   ],
   "source": [
    "import torch\n",
    "import torch.nn as nn\n",
    "from torch.utils.data import DataLoader, Dataset\n",
    "import h5py\n",
    "import tenseal as ts\n",
    "import pandas as pd\n",
    "import matplotlib.pyplot as plt\n",
    "# plt.style.use('dark_background')\n",
    "from pathlib import Path\n",
    "\n",
    "print(f'torch version: {torch.__version__}')\n",
    "print(f'tenseal version: {ts.__version__}')"
   ]
  },
  {
   "cell_type": "code",
   "execution_count": 14,
   "metadata": {},
   "outputs": [
    {
     "name": "stdout",
     "output_type": "stream",
     "text": [
      "project_path: /home/dk/Desktop/projects/HESplit\n"
     ]
    }
   ],
   "source": [
    "project_path = Path.cwd().parent\n",
    "print(f'project_path: {project_path}')"
   ]
  },
  {
   "cell_type": "markdown",
   "metadata": {},
   "source": [
    "Needed paths"
   ]
  },
  {
   "cell_type": "code",
   "execution_count": 15,
   "metadata": {},
   "outputs": [],
   "source": [
    "output_path = project_path / 'outputs/2022-08-17/ptbxl_8192_batch8_epoch10_lr0.001'\n",
    "train_results = output_path / 'client/train_results.csv'\n",
    "server_weights_path = output_path / 'server/trained_server.pth'\n",
    "client_weights_path = output_path / 'client/trained_client.pth'"
   ]
  },
  {
   "cell_type": "markdown",
   "metadata": {},
   "source": [
    "## Averange training time and communication per epoch"
   ]
  },
  {
   "cell_type": "code",
   "execution_count": 21,
   "metadata": {},
   "outputs": [
    {
     "data": {
      "text/html": [
       "<div>\n",
       "<style scoped>\n",
       "    .dataframe tbody tr th:only-of-type {\n",
       "        vertical-align: middle;\n",
       "    }\n",
       "\n",
       "    .dataframe tbody tr th {\n",
       "        vertical-align: top;\n",
       "    }\n",
       "\n",
       "    .dataframe thead th {\n",
       "        text-align: right;\n",
       "    }\n",
       "</style>\n",
       "<table border=\"1\" class=\"dataframe\">\n",
       "  <thead>\n",
       "    <tr style=\"text-align: right;\">\n",
       "      <th></th>\n",
       "      <th>Unnamed: 0</th>\n",
       "      <th>train_losses</th>\n",
       "      <th>train_accs</th>\n",
       "      <th>train_times (s)</th>\n",
       "      <th>train_comms (Mb)</th>\n",
       "    </tr>\n",
       "  </thead>\n",
       "  <tbody>\n",
       "    <tr>\n",
       "      <th>0</th>\n",
       "      <td>0</td>\n",
       "      <td>1.428363</td>\n",
       "      <td>0.473037</td>\n",
       "      <td>47137.754390</td>\n",
       "      <td>1.315382e+06</td>\n",
       "    </tr>\n",
       "    <tr>\n",
       "      <th>1</th>\n",
       "      <td>1</td>\n",
       "      <td>1.340563</td>\n",
       "      <td>0.559921</td>\n",
       "      <td>49576.303444</td>\n",
       "      <td>1.315382e+06</td>\n",
       "    </tr>\n",
       "    <tr>\n",
       "      <th>2</th>\n",
       "      <td>2</td>\n",
       "      <td>1.318824</td>\n",
       "      <td>0.582083</td>\n",
       "      <td>51080.919545</td>\n",
       "      <td>1.315384e+06</td>\n",
       "    </tr>\n",
       "    <tr>\n",
       "      <th>3</th>\n",
       "      <td>3</td>\n",
       "      <td>1.311381</td>\n",
       "      <td>0.589921</td>\n",
       "      <td>50115.627517</td>\n",
       "      <td>1.315383e+06</td>\n",
       "    </tr>\n",
       "    <tr>\n",
       "      <th>4</th>\n",
       "      <td>4</td>\n",
       "      <td>1.304193</td>\n",
       "      <td>0.596253</td>\n",
       "      <td>50307.490460</td>\n",
       "      <td>1.315385e+06</td>\n",
       "    </tr>\n",
       "    <tr>\n",
       "      <th>5</th>\n",
       "      <td>5</td>\n",
       "      <td>1.300183</td>\n",
       "      <td>0.601650</td>\n",
       "      <td>50347.440193</td>\n",
       "      <td>1.315383e+06</td>\n",
       "    </tr>\n",
       "    <tr>\n",
       "      <th>6</th>\n",
       "      <td>6</td>\n",
       "      <td>1.294759</td>\n",
       "      <td>0.605491</td>\n",
       "      <td>49745.436481</td>\n",
       "      <td>1.315383e+06</td>\n",
       "    </tr>\n",
       "    <tr>\n",
       "      <th>7</th>\n",
       "      <td>7</td>\n",
       "      <td>1.292731</td>\n",
       "      <td>0.608865</td>\n",
       "      <td>50259.522743</td>\n",
       "      <td>1.315384e+06</td>\n",
       "    </tr>\n",
       "    <tr>\n",
       "      <th>8</th>\n",
       "      <td>8</td>\n",
       "      <td>1.289596</td>\n",
       "      <td>0.610993</td>\n",
       "      <td>48534.438388</td>\n",
       "      <td>1.315386e+06</td>\n",
       "    </tr>\n",
       "    <tr>\n",
       "      <th>9</th>\n",
       "      <td>9</td>\n",
       "      <td>1.290500</td>\n",
       "      <td>0.610474</td>\n",
       "      <td>46244.582279</td>\n",
       "      <td>1.315385e+06</td>\n",
       "    </tr>\n",
       "  </tbody>\n",
       "</table>\n",
       "</div>"
      ],
      "text/plain": [
       "   Unnamed: 0  train_losses  train_accs  train_times (s)  train_comms (Mb)\n",
       "0           0      1.428363    0.473037     47137.754390      1.315382e+06\n",
       "1           1      1.340563    0.559921     49576.303444      1.315382e+06\n",
       "2           2      1.318824    0.582083     51080.919545      1.315384e+06\n",
       "3           3      1.311381    0.589921     50115.627517      1.315383e+06\n",
       "4           4      1.304193    0.596253     50307.490460      1.315385e+06\n",
       "5           5      1.300183    0.601650     50347.440193      1.315383e+06\n",
       "6           6      1.294759    0.605491     49745.436481      1.315383e+06\n",
       "7           7      1.292731    0.608865     50259.522743      1.315384e+06\n",
       "8           8      1.289596    0.610993     48534.438388      1.315386e+06\n",
       "9           9      1.290500    0.610474     46244.582279      1.315385e+06"
      ]
     },
     "execution_count": 21,
     "metadata": {},
     "output_type": "execute_result"
    }
   ],
   "source": [
    "df = pd.read_csv(train_results)\n",
    "df"
   ]
  },
  {
   "cell_type": "code",
   "execution_count": 22,
   "metadata": {},
   "outputs": [
    {
     "name": "stdout",
     "output_type": "stream",
     "text": [
      "average training time per epoch: 49334.95 s\n",
      "average training communication per epoch: 1315383.61 Mb\n"
     ]
    }
   ],
   "source": [
    "avg_times = df['train_times (s)'].mean()\n",
    "print(f'average training time per epoch: {avg_times:.2f} s')\n",
    "avg_comms = df['train_comms (Mb)'].mean()\n",
    "print(f'average training communication per epoch: {avg_comms:.2f} Mb')"
   ]
  },
  {
   "cell_type": "markdown",
   "metadata": {},
   "source": [
    "## Dataset"
   ]
  },
  {
   "cell_type": "code",
   "execution_count": 16,
   "metadata": {},
   "outputs": [],
   "source": [
    "class PTBXL(Dataset):\n",
    "    \"\"\"\n",
    "    The class used by the client to \n",
    "    load the PTBXL dataset\n",
    "\n",
    "    Args:\n",
    "        Dataset ([type]): [description]\n",
    "    \"\"\"\n",
    "    def __init__(self, train=True):\n",
    "        if train:\n",
    "            with h5py.File(project_path/'data/ptbxl_train.hdf5', 'r') as hdf:\n",
    "                self.x = hdf['X_train'][:]\n",
    "                self.y = hdf['y_train'][:]\n",
    "        else:\n",
    "            with h5py.File(project_path/'data/ptbxl_test.hdf5', 'r') as hdf:\n",
    "                self.x = hdf['X_test'][:]\n",
    "                self.y = hdf['y_test'][:]\n",
    "    \n",
    "    def __len__(self):\n",
    "        return len(self.x)\n",
    "    \n",
    "    def __getitem__(self, idx):\n",
    "        return torch.tensor(self.x[idx], dtype=torch.float), torch.tensor(self.y[idx])\n",
    "\n",
    "batch_size = 4\n",
    "test_dataset = PTBXL(train=False)\n",
    "test_loader = DataLoader(test_dataset, batch_size=batch_size)"
   ]
  },
  {
   "cell_type": "markdown",
   "metadata": {},
   "source": [
    "## Loading the trained model"
   ]
  },
  {
   "cell_type": "code",
   "execution_count": 17,
   "metadata": {},
   "outputs": [],
   "source": [
    "client = torch.load(client_weights_path)\n",
    "server = torch.load(server_weights_path)\n",
    "\n",
    "class ECGModel(nn.Module):\n",
    "    def __init__(self) -> None:\n",
    "        super(ECGModel, self).__init__()\n",
    "        self.conv1 = nn.Conv1d(in_channels=12, \n",
    "                                out_channels=16, \n",
    "                                kernel_size=7, \n",
    "                                padding=3,\n",
    "                                stride=1)  # 16 x 1000\n",
    "        self.relu1 = nn.LeakyReLU()\n",
    "        self.pool1 = nn.MaxPool1d(2)  # 16 x 500\n",
    "        self.conv2 = nn.Conv1d(in_channels=16, \n",
    "                                out_channels=8, \n",
    "                                kernel_size=5, \n",
    "                                padding=2)  # 8 x 500\n",
    "        self.relu2 = nn.LeakyReLU()\n",
    "        self.pool2 = nn.MaxPool1d(2)  # 8 x 250\n",
    "        \n",
    "        self.linear = nn.Linear(in_features=8*250,\n",
    "                                out_features=5)\n",
    "        self.softmax = nn.Softmax(dim=1)\n",
    "\n",
    "        self.load_weights()\n",
    "\n",
    "    def load_weights(self):\n",
    "        self.conv1.weight.data = client[\"conv1.weight\"]\n",
    "        self.conv1.bias.data = client[\"conv1.bias\"]\n",
    "        self.conv2.weight.data = client[\"conv2.weight\"]\n",
    "        self.conv2.bias.data = client[\"conv2.bias\"]\n",
    "        self.linear.weight.data = server[\"W\"]\n",
    "        self.linear.bias.data = server[\"b\"]\n",
    "\n",
    "    def forward(self, x):\n",
    "        x = self.conv1(x)\n",
    "        x = self.relu1(x)\n",
    "        x = self.pool1(x)\n",
    "        x = self.conv2(x)\n",
    "        x = self.relu2(x)\n",
    "        x = self.pool2(x)\n",
    "        x = x.view(-1, 8*250)\n",
    "        x = self.linear(x)\n",
    "        x = self.softmax(x)\n",
    "        return x\n",
    "\n",
    "model = ECGModel()"
   ]
  },
  {
   "cell_type": "markdown",
   "metadata": {},
   "source": [
    "## The testing loop"
   ]
  },
  {
   "cell_type": "code",
   "execution_count": 18,
   "metadata": {},
   "outputs": [
    {
     "name": "stdout",
     "output_type": "stream",
     "text": [
      "test_loss: 1.3109, test_acc: 58.95\n"
     ]
    }
   ],
   "source": [
    "def test(model):\n",
    "    criterion = nn.CrossEntropyLoss()\n",
    "\n",
    "    with torch.no_grad():\n",
    "        test_loss = 0.0\n",
    "        correct, total = 0, 0\n",
    "        for _, batch in enumerate(test_loader):\n",
    "            x, y = batch\n",
    "            x, y = x.to(device), y.to(device)\n",
    "            y_hat = model(x)\n",
    "            loss = criterion(y_hat, y)\n",
    "            test_loss += loss.item()\n",
    "            correct += torch.sum(y_hat.argmax(dim=1) == y).item()\n",
    "            total += len(y)\n",
    "    print(f\"test_loss: {(test_loss/len(test_loader)):.4f}, \"\n",
    "          f\"test_acc: {((correct/total)*100):.2f}\")\n",
    "\n",
    "test(model.to(device))"
   ]
  },
  {
   "cell_type": "code",
   "execution_count": null,
   "metadata": {},
   "outputs": [],
   "source": []
  }
 ],
 "metadata": {
  "interpreter": {
   "hash": "e85e1ad9491ad1c682eddae450c0709b489a0cca29d103fde5874c05d9a030a5"
  },
  "kernelspec": {
   "display_name": "Python 3.8.12 ('privSecAI')",
   "language": "python",
   "name": "python3"
  },
  "language_info": {
   "codemirror_mode": {
    "name": "ipython",
    "version": 3
   },
   "file_extension": ".py",
   "mimetype": "text/x-python",
   "name": "python",
   "nbconvert_exporter": "python",
   "pygments_lexer": "ipython3",
   "version": "3.9.7"
  },
  "orig_nbformat": 4
 },
 "nbformat": 4,
 "nbformat_minor": 2
}
