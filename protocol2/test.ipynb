{
 "cells": [
  {
   "cell_type": "markdown",
   "metadata": {},
   "source": [
    "# The Server Runs the Testing Process on the Plain Testing Dataset"
   ]
  },
  {
   "cell_type": "code",
   "execution_count": 3,
   "metadata": {},
   "outputs": [
    {
     "name": "stdout",
     "output_type": "stream",
     "text": [
      "project_path: /home/dk/Desktop/split-learning-1D-HE\n",
      "torch version: 1.8.1+cu102\n",
      "tenseal version: 0.3.5\n"
     ]
    }
   ],
   "source": [
    "import torch\n",
    "import torch.nn as nn\n",
    "from torch.utils.data import DataLoader, Dataset\n",
    "import h5py\n",
    "import tenseal as ts\n",
    "import pandas as pd\n",
    "import matplotlib.pyplot as plt\n",
    "# plt.style.use('dark_background')\n",
    "from pathlib import Path\n",
    "\n",
    "project_path = Path.cwd().parent\n",
    "print(f'project_path: {project_path}')\n",
    "print(f'torch version: {torch.__version__}')\n",
    "print(f'tenseal version: {ts.__version__}')"
   ]
  },
  {
   "cell_type": "markdown",
   "metadata": {},
   "source": [
    "## Plotting the training results"
   ]
  },
  {
   "cell_type": "markdown",
   "metadata": {},
   "source": [
    "`poly_modulus_degree=4096`  \n",
    "`coeff_mod_bit_sizes=[40, 20, 20]`  \n",
    "`global_scale=pow(2, 21)`"
   ]
  },
  {
   "cell_type": "code",
   "execution_count": 4,
   "metadata": {},
   "outputs": [
    {
     "data": {
      "image/png": "[encoded data removed]",
      "text/plain": [
       "<Figure size 1080x288 with 2 Axes>"
      ]
     },
     "metadata": {
      "needs_background": "light"
     },
     "output_type": "display_data"
    }
   ],
   "source": [
    "df = pd.read_csv('outputs/loss_and_acc_2048_batch.csv')\n",
    "train_losses = df['train_losses']\n",
    "train_accs = df['train_accs']\n",
    "\n",
    "fig, ax = plt.subplots(1, 2, figsize=(15, 4))\n",
    "\n",
    "ax[0].plot(train_losses)\n",
    "ax[0].set_xticks([0, 2, 4, 6, 8, 10])\n",
    "ax[0].set_xlabel('Epoch', size=16)\n",
    "ax[0].set_ylabel('Training Loss', size=16)\n",
    "ax[0].set_ylim(0.9, 1.1)\n",
    "ax[0].set_yticks([1.0, 1.1, 1.2, 1.3, 1.4, 1.5, 1.6])\n",
    "ax[0].grid(alpha=0.5)\n",
    "ax[0].tick_params(labelsize=16)\n",
    "# ax[0].legend(['Train', 'Test'], loc='upper right', fontsize=16)\n",
    "\n",
    "ax[1].set_ylim(0.7, 1.0)\n",
    "ax[1].set_yticks([0.4, 0.5, 0.6, 0.7, 0.8, 0.9, 1.0])\n",
    "ax[1].plot(train_accs)\n",
    "yt = ax[1].get_yticks()\n",
    "ax[1].set_yticklabels(['{:,.0%}'.format(x) for x in yt])\n",
    "ax[0].set_xticks([0, 2, 4, 6, 8, 10])\n",
    "ax[1].set_xlabel('Epoch', size=16)\n",
    "ax[1].set_ylabel('Training Accuracy', size=16, labelpad=-5)\n",
    "ax[1].grid(alpha=0.5)\n",
    "ax[1].tick_params(labelsize=16)\n",
    "# ax[1].legend(['Train', 'Test'], loc='upper right', fontsize=16)"
   ]
  },
  {
   "cell_type": "markdown",
   "metadata": {},
   "source": [
    "## Dataset"
   ]
  },
  {
   "cell_type": "code",
   "execution_count": 5,
   "metadata": {},
   "outputs": [],
   "source": [
    "class ECG(Dataset):\n",
    "    \"\"\"The class used by the client to load the dataset\n",
    "\n",
    "    Args:\n",
    "        Dataset ([type]): [description]\n",
    "    \"\"\"\n",
    "    def __init__(self, train=True):\n",
    "        if train:\n",
    "            with h5py.File(project_path/'data/train_ecg.hdf5', 'r') as hdf:\n",
    "                self.x = hdf['x_train'][:]\n",
    "                self.y = hdf['y_train'][:]\n",
    "        else:\n",
    "            with h5py.File(project_path/'data/test_ecg.hdf5', 'r') as hdf:\n",
    "                self.x = hdf['x_test'][:]\n",
    "                self.y = hdf['y_test'][:]\n",
    "    \n",
    "    def __len__(self):\n",
    "        return len(self.x)\n",
    "    \n",
    "    def __getitem__(self, idx):\n",
    "        return torch.tensor(self.x[idx], dtype=torch.float), torch.tensor(self.y[idx])\n",
    "\n",
    "batch_size = 4\n",
    "test_dataset = ECG(train=False)\n",
    "test_loader = DataLoader(test_dataset, batch_size=batch_size)"
   ]
  },
  {
   "cell_type": "markdown",
   "metadata": {},
   "source": [
    "## Loading the trained model"
   ]
  },
  {
   "cell_type": "code",
   "execution_count": 6,
   "metadata": {},
   "outputs": [],
   "source": [
    "client = torch.load('weights/trained_client_2048_batch.pth')\n",
    "server = torch.load('weights/trained_server_2048_batch.pth')\n",
    "\n",
    "class ECGModel(nn.Module):\n",
    "    def __init__(self) -> None:\n",
    "        super(ECGModel, self).__init__()\n",
    "        self.conv1 = nn.Conv1d(in_channels=1, \n",
    "                                out_channels=16, \n",
    "                                kernel_size=7, \n",
    "                                padding=3,\n",
    "                                stride=1)  # 128 x 16\n",
    "        self.relu1 = nn.LeakyReLU()\n",
    "        self.pool1 = nn.MaxPool1d(2)  # 64 x 16\n",
    "        self.conv2 = nn.Conv1d(in_channels=16, \n",
    "                                out_channels=8, \n",
    "                                kernel_size=5, \n",
    "                                padding=2)  # 64 x 8\n",
    "        self.relu2 = nn.LeakyReLU()\n",
    "        self.pool2 = nn.MaxPool1d(2)  # 32 x 8 = 256\n",
    "        \n",
    "        self.linear = nn.Linear(in_features=256,\n",
    "                                out_features=5)\n",
    "        self.softmax = nn.Softmax(dim=1)\n",
    "\n",
    "        self.load_weights()\n",
    "\n",
    "    def load_weights(self):\n",
    "        self.conv1.weight.data = client[\"conv1.weight\"]\n",
    "        self.conv1.bias.data = client[\"conv1.bias\"]\n",
    "        self.conv2.weight.data = client[\"conv2.weight\"]\n",
    "        self.conv2.bias.data = client[\"conv2.bias\"]\n",
    "        self.linear.weight.data = server[\"W\"]\n",
    "        self.linear.bias.data = server[\"b\"]\n",
    "\n",
    "    def forward(self, x):\n",
    "        x = self.conv1(x)\n",
    "        x = self.relu1(x)\n",
    "        x = self.pool1(x)\n",
    "        x = self.conv2(x)\n",
    "        x = self.relu2(x)\n",
    "        x = self.pool2(x)\n",
    "        x = x.view(-1, 256)\n",
    "        x = self.linear(x)\n",
    "        x = self.softmax(x)\n",
    "        return x\n",
    "\n",
    "model = ECGModel()"
   ]
  },
  {
   "cell_type": "markdown",
   "metadata": {},
   "source": [
    "## The testing loop"
   ]
  },
  {
   "cell_type": "code",
   "execution_count": 7,
   "metadata": {},
   "outputs": [
    {
     "name": "stdout",
     "output_type": "stream",
     "text": [
      "device: NVIDIA GeForce GTX 1070 Ti\n",
      "test_loss: 1.2018, test_acc: 70.12\n"
     ]
    }
   ],
   "source": [
    "device = torch.device('cuda:0' if torch.cuda.is_available() else 'cpu')\n",
    "if torch.cuda.is_available():\n",
    "    print(f'device: {torch.cuda.get_device_name(0)}')\n",
    "\n",
    "def test(model):\n",
    "    criterion = nn.CrossEntropyLoss()\n",
    "\n",
    "    with torch.no_grad():\n",
    "        test_loss = 0.0\n",
    "        correct, total = 0, 0\n",
    "        for _, batch in enumerate(test_loader):\n",
    "            x, y = batch\n",
    "            x, y = x.to(device), y.to(device)\n",
    "            y_hat = model(x)\n",
    "            loss = criterion(y_hat, y)\n",
    "            test_loss += loss.item()\n",
    "            correct += torch.sum(y_hat.argmax(dim=1) == y).item()\n",
    "            total += len(y)\n",
    "    print(f\"test_loss: {(test_loss/len(test_loader)):.4f}, \"\n",
    "          f\"test_acc: {((correct/total)*100):.2f}\")\n",
    "\n",
    "test(model.to(device))"
   ]
  },
  {
   "cell_type": "code",
   "execution_count": null,
   "metadata": {},
   "outputs": [],
   "source": []
  }
 ],
 "metadata": {
  "interpreter": {
   "hash": "4fb056718432581df00ec0ea1d8474ad391dc3f52021963853b762465b19daea"
  },
  "kernelspec": {
   "display_name": "Python 3.9.7 64-bit ('privsecai': conda)",
   "name": "python3"
  },
  "language_info": {
   "codemirror_mode": {
    "name": "ipython",
    "version": 3
   },
   "file_extension": ".py",
   "mimetype": "text/x-python",
   "name": "python",
   "nbconvert_exporter": "python",
   "pygments_lexer": "ipython3",
   "version": "3.9.7"
  },
  "orig_nbformat": 4
 },
 "nbformat": 4,
 "nbformat_minor": 2
}
